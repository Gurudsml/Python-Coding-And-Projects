{
 "cells": [
  {
   "cell_type": "markdown",
   "id": "0ed44670-3729-4ea9-99b8-860be29a4b80",
   "metadata": {},
   "source": [
    "# File Handling"
   ]
  },
  {
   "cell_type": "markdown",
   "id": "0081e2ee-8626-4e93-b93c-447abd53513b",
   "metadata": {},
   "source": [
    "### Write file"
   ]
  },
  {
   "cell_type": "code",
   "execution_count": 2,
   "id": "af9ad1bc-e4b8-4346-ae1e-89faf6a02bca",
   "metadata": {},
   "outputs": [
    {
     "name": "stdout",
     "output_type": "stream",
     "text": [
      "data written to the file succesfully\n"
     ]
    }
   ],
   "source": [
    "with open(\"user_info.txt\",\"w\") as file:\n",
    "    file.write(\"Name:Guru\\nAge:23\\nFavColor:White\\n\")\n",
    "    print(\"data written to the file succesfully\")"
   ]
  },
  {
   "cell_type": "markdown",
   "id": "fb9ded92-ff0d-4ba0-9ef4-f80ffaf326de",
   "metadata": {},
   "source": [
    "### Read file"
   ]
  },
  {
   "cell_type": "code",
   "execution_count": 4,
   "id": "f7b24b8c-88a1-45b7-825f-39030328e81f",
   "metadata": {},
   "outputs": [
    {
     "name": "stdout",
     "output_type": "stream",
     "text": [
      "Name:Guru\n",
      "Age:23\n",
      "FavColor:White\n",
      "\n"
     ]
    }
   ],
   "source": [
    "with open(\"user_info.txt\",\"r\") as file:\n",
    "    name=file.read()\n",
    "    print(name)"
   ]
  },
  {
   "cell_type": "markdown",
   "id": "b67d65fd-73e5-4c40-8058-80c760fbc2e4",
   "metadata": {},
   "source": [
    "### Append file"
   ]
  },
  {
   "cell_type": "code",
   "execution_count": 5,
   "id": "64c68ec1-5715-46b3-8402-621ff5a0609b",
   "metadata": {},
   "outputs": [
    {
     "name": "stdout",
     "output_type": "stream",
     "text": [
      "data add to the file succesfully\n"
     ]
    }
   ],
   "source": [
    "with open (\"user_info.txt\",\"a\") as file:\n",
    "    file.write(\"FavMovie:Vidamuyarchi\")\n",
    "    print(\"data add to the file succesfully\")"
   ]
  },
  {
   "cell_type": "markdown",
   "id": "dd17da39-bd29-4838-bd56-911e02d0a36b",
   "metadata": {},
   "source": [
    "### Readlines"
   ]
  },
  {
   "cell_type": "code",
   "execution_count": 6,
   "id": "86c694d2-7342-449a-9225-23c9243e1f58",
   "metadata": {},
   "outputs": [
    {
     "name": "stdout",
     "output_type": "stream",
     "text": [
      "Name:Guru\n",
      "Age:23\n",
      "FavColor:White\n",
      "FavMovie:Vidamuyarchi"
     ]
    }
   ],
   "source": [
    "with open(\"user_info.txt\",\"r\") as file:\n",
    "    readlines=file.readlines()\n",
    "    for Each_line in readlines:\n",
    "        print(Each_line,end=\"\")"
   ]
  },
  {
   "cell_type": "markdown",
   "id": "645b7b44-668c-4836-9781-5b5aa65cda9d",
   "metadata": {},
   "source": [
    "## Exception Handling"
   ]
  },
  {
   "cell_type": "code",
   "execution_count": 26,
   "id": "bd375a6f-7e95-41c9-8f54-058931eaa837",
   "metadata": {},
   "outputs": [],
   "source": [
    "def celsius_to_fahrenheit():\n",
    "    try:\n",
    "        celsius=float(input(\"Enter a temprature in celsious: \"))\n",
    "        Fahrenheit = (celsius * 9/5) + 32\n",
    "    except ZeroDivisionError as Z:\n",
    "        #note:ZeroDivionError didn't work. i dont know why? \n",
    "        print(\"Division by Zero is not allowed: \",Z)\n",
    "    except TypeError as T:\n",
    "        print(\"type error occured: \",T)\n",
    "    except ValueError as V:\n",
    "        print(\"value error occured: \",V)\n",
    "    except Exception as E:\n",
    "        print(\"An error occured: \",E)\n",
    "    else:\n",
    "        print(f\"the calculated Fahrenheit temperature is :{Fahrenheit}\")\n",
    "    finally:\n",
    "        print(\"Program execution has ended\")\n",
    "        \n",
    "        "
   ]
  },
  {
   "cell_type": "code",
   "execution_count": 28,
   "id": "f1a303da-5d9c-47f3-b257-0a42892587ab",
   "metadata": {},
   "outputs": [
    {
     "name": "stdin",
     "output_type": "stream",
     "text": [
      "Enter a temprature in celsious:  \n"
     ]
    },
    {
     "name": "stdout",
     "output_type": "stream",
     "text": [
      "value error occured:  could not convert string to float: ''\n",
      "Program execution has ended\n"
     ]
    }
   ],
   "source": [
    "celsius_to_fahrenheit()"
   ]
  },
  {
   "cell_type": "markdown",
   "id": "c0b95b5f-fc5b-4b93-9623-b9bee2f1ab5c",
   "metadata": {},
   "source": [
    "# Class Creation\n"
   ]
  },
  {
   "cell_type": "code",
   "execution_count": 30,
   "id": "c748907b-c358-4931-8243-8e38dfc15062",
   "metadata": {},
   "outputs": [],
   "source": [
    "class Library:\n",
    "    def __init__(self,book_title,year_published):\n",
    "        self.name=book_title\n",
    "        self.published=year_published\n",
    "\n",
    "    def Bookinfo(self):\n",
    "        return f\"The Book title is {self.name},and the published year is {self.published}\""
   ]
  },
  {
   "cell_type": "code",
   "execution_count": 31,
   "id": "5f204855-5ff8-47e1-8394-8625ba2305d0",
   "metadata": {},
   "outputs": [
    {
     "data": {
      "text/plain": [
       "'The Book title is harry_pater,and the published year is 2001'"
      ]
     },
     "execution_count": 31,
     "metadata": {},
     "output_type": "execute_result"
    }
   ],
   "source": [
    "Book1=Library(\"harry_pater\",2001)\n",
    "Book1.Bookinfo()"
   ]
  },
  {
   "cell_type": "code",
   "execution_count": 32,
   "id": "9163c2eb-7b36-45fe-8637-31def70349a6",
   "metadata": {},
   "outputs": [
    {
     "data": {
      "text/plain": [
       "'The Book title is Ponniyin selvan,and the published year is 16-may-1954'"
      ]
     },
     "execution_count": 32,
     "metadata": {},
     "output_type": "execute_result"
    }
   ],
   "source": [
    "Book2=Library(\"Ponniyin selvan\",\"16-may-1954\")\n",
    "Book2.Bookinfo()"
   ]
  },
  {
   "cell_type": "code",
   "execution_count": null,
   "id": "5ca9e687-2848-4326-9223-b202dc5e55ce",
   "metadata": {},
   "outputs": [],
   "source": []
  }
 ],
 "metadata": {
  "kernelspec": {
   "display_name": "Python 3 (ipykernel)",
   "language": "python",
   "name": "python3"
  },
  "language_info": {
   "codemirror_mode": {
    "name": "ipython",
    "version": 3
   },
   "file_extension": ".py",
   "mimetype": "text/x-python",
   "name": "python",
   "nbconvert_exporter": "python",
   "pygments_lexer": "ipython3",
   "version": "3.12.7"
  }
 },
 "nbformat": 4,
 "nbformat_minor": 5
}
