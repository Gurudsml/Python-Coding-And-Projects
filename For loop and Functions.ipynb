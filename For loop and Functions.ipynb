{
 "cells": [
  {
   "cell_type": "markdown",
   "id": "83396250-48fc-401e-847f-b1d91bf78535",
   "metadata": {},
   "source": [
    "# For Loop: "
   ]
  },
  {
   "cell_type": "markdown",
   "id": "6e2d8273-86de-4e20-bac5-0682e4b89462",
   "metadata": {},
   "source": [
    "- Multiplication Table Generator"
   ]
  },
  {
   "cell_type": "code",
   "execution_count": 10,
   "id": "65bd052c-8a52-4d53-aa26-0bb28d285904",
   "metadata": {},
   "outputs": [
    {
     "name": "stdin",
     "output_type": "stream",
     "text": [
      "Enter the number for which you want the multiplication table:  10\n"
     ]
    },
    {
     "name": "stdout",
     "output_type": "stream",
     "text": [
      "10*1=10\n",
      "10*2=20\n",
      "10*3=30\n",
      "10*4=40\n",
      "10*5=50\n",
      "10*6=60\n",
      "10*7=70\n",
      "10*8=80\n",
      "10*9=90\n",
      "10*10=100\n"
     ]
    }
   ],
   "source": [
    "Number = int(input(\"Enter the number for which you want the multiplication table: \"))\n",
    "\n",
    "for i in range(1,11):\n",
    "    result=Number*i\n",
    "    print(f\"{Number}*{i}={result}\")\n",
    "    "
   ]
  },
  {
   "cell_type": "markdown",
   "id": "cc3ba443-b2e3-4642-8ad0-6dd8d1644f3f",
   "metadata": {},
   "source": [
    "# Functions:"
   ]
  },
  {
   "cell_type": "markdown",
   "id": "8be9839e-3b9d-4451-b0bc-3735718b79b8",
   "metadata": {},
   "source": [
    "- BMI Calculator"
   ]
  },
  {
   "cell_type": "code",
   "execution_count": 47,
   "id": "861e72fa-4776-4820-a64f-bcedd4209540",
   "metadata": {},
   "outputs": [],
   "source": [
    "def BMI_Calculator(Weight,Height):\n",
    "    BMI=Weight/Height**2\n",
    "    return f\"Your BMI is : {BMI:.2f}\""
   ]
  },
  {
   "cell_type": "code",
   "execution_count": 48,
   "id": "1dd0d196-0e01-4375-8f7f-152047cbea9a",
   "metadata": {},
   "outputs": [
    {
     "name": "stdin",
     "output_type": "stream",
     "text": [
      "Enter your weight in kg:  50\n",
      "Enter your height in meter:  1.24\n"
     ]
    },
    {
     "data": {
      "text/plain": [
       "'Your BMI is : 32.52'"
      ]
     },
     "execution_count": 48,
     "metadata": {},
     "output_type": "execute_result"
    }
   ],
   "source": [
    "Weight = float(input(\"Enter your weight in kg: \"))\n",
    "Height = float(input(\"Enter your height in meter: \"))\n",
    "BMI_Calculator(Weight,Height)"
   ]
  },
  {
   "cell_type": "code",
   "execution_count": null,
   "id": "73279565-5d0a-4b0c-acdc-40c3ec9c8add",
   "metadata": {},
   "outputs": [],
   "source": []
  }
 ],
 "metadata": {
  "kernelspec": {
   "display_name": "Python 3 (ipykernel)",
   "language": "python",
   "name": "python3"
  },
  "language_info": {
   "codemirror_mode": {
    "name": "ipython",
    "version": 3
   },
   "file_extension": ".py",
   "mimetype": "text/x-python",
   "name": "python",
   "nbconvert_exporter": "python",
   "pygments_lexer": "ipython3",
   "version": "3.12.7"
  }
 },
 "nbformat": 4,
 "nbformat_minor": 5
}
