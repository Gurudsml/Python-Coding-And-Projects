{
 "cells": [
  {
   "cell_type": "markdown",
   "id": "c1137db0-0736-4f1b-8187-002331edb54e",
   "metadata": {},
   "source": [
    "# String"
   ]
  },
  {
   "cell_type": "markdown",
   "id": "d247b705-0f0c-465a-9f29-4b369b9f71c3",
   "metadata": {},
   "source": [
    "## 1. concatination\n"
   ]
  },
  {
   "cell_type": "markdown",
   "id": "616a7921-0d50-4904-bdc4-12828adf6cbb",
   "metadata": {},
   "source": [
    "- 1 Quest"
   ]
  },
  {
   "cell_type": "code",
   "execution_count": 2,
   "id": "67b3110d-8121-44fe-a056-0c2adfe04ba1",
   "metadata": {},
   "outputs": [],
   "source": [
    "string1 = \"Hello!\""
   ]
  },
  {
   "cell_type": "code",
   "execution_count": 3,
   "id": "ee378ba6-0443-4c7b-bdcf-33d18f1fe170",
   "metadata": {},
   "outputs": [
    {
     "name": "stdin",
     "output_type": "stream",
     "text": [
      "Enter Your Name:  Guru\n"
     ]
    }
   ],
   "source": [
    "string2 = input(\"Enter Your Name: \")"
   ]
  },
  {
   "cell_type": "code",
   "execution_count": 4,
   "id": "d729a28d-fe98-4c34-8272-fb6ac5a67ea2",
   "metadata": {},
   "outputs": [
    {
     "name": "stdout",
     "output_type": "stream",
     "text": [
      "Hello! Guru\n"
     ]
    }
   ],
   "source": [
    "print(string1+\" \"+string2)"
   ]
  },
  {
   "cell_type": "markdown",
   "id": "6a4114d5-9f18-4a0b-90f7-a58928af5ed9",
   "metadata": {},
   "source": [
    "- 2 Quest"
   ]
  },
  {
   "cell_type": "code",
   "execution_count": 5,
   "id": "450fe076-c43a-41e4-8832-465d9588286a",
   "metadata": {},
   "outputs": [],
   "source": [
    "string3 = \" welcome to Python programming\""
   ]
  },
  {
   "cell_type": "code",
   "execution_count": 6,
   "id": "a05d3edd-20fe-4fe1-a1f9-073a1b26c710",
   "metadata": {},
   "outputs": [
    {
     "name": "stdout",
     "output_type": "stream",
     "text": [
      "Hello! Guru welcome to Python programming\n"
     ]
    }
   ],
   "source": [
    "print(string1+' '+string2+string3)"
   ]
  },
  {
   "cell_type": "markdown",
   "id": "33ac509c-725b-4e2c-83e2-08f6fee45985",
   "metadata": {},
   "source": [
    "#### Another Way "
   ]
  },
  {
   "cell_type": "code",
   "execution_count": 7,
   "id": "e574a21b-3ad0-4cf3-8f33-8d02279dcd35",
   "metadata": {},
   "outputs": [],
   "source": [
    "name = string1+\" \"+string2"
   ]
  },
  {
   "cell_type": "code",
   "execution_count": 8,
   "id": "dca866b8-3508-424d-bfef-b2e3fecb83ce",
   "metadata": {},
   "outputs": [
    {
     "name": "stdout",
     "output_type": "stream",
     "text": [
      "Hello! Guru\n"
     ]
    }
   ],
   "source": [
    "print(name)"
   ]
  },
  {
   "cell_type": "code",
   "execution_count": 10,
   "id": "9b791d68-8a3b-4116-8e11-dec20333117f",
   "metadata": {},
   "outputs": [],
   "source": [
    "Greeting = name+string3\n"
   ]
  },
  {
   "cell_type": "code",
   "execution_count": 11,
   "id": "709e042d-0e11-4ed6-bdf2-62d06650bf6f",
   "metadata": {},
   "outputs": [
    {
     "name": "stdout",
     "output_type": "stream",
     "text": [
      "Hello! Guru welcome to Python programming\n"
     ]
    }
   ],
   "source": [
    "print(Greeting)"
   ]
  },
  {
   "cell_type": "markdown",
   "id": "91b7f132-90ca-4edf-b77a-32341b57ae7d",
   "metadata": {},
   "source": [
    "## 2. String Slicing and Indexing"
   ]
  },
  {
   "cell_type": "markdown",
   "id": "2cd4296b-4e94-4b1c-8566-20bac20cca4f",
   "metadata": {},
   "source": [
    "- A. Print the first character of the string."
   ]
  },
  {
   "cell_type": "code",
   "execution_count": 12,
   "id": "aa223614-5a01-4a29-9d74-8a8d8b91010d",
   "metadata": {},
   "outputs": [
    {
     "name": "stdout",
     "output_type": "stream",
     "text": [
      "H\n"
     ]
    }
   ],
   "source": [
    "print(Greeting[0])"
   ]
  },
  {
   "cell_type": "markdown",
   "id": "9a8c91f6-a782-4fd1-b2e4-d92a9d7cfadf",
   "metadata": {},
   "source": [
    "- B.Print the last character of the string."
   ]
  },
  {
   "cell_type": "code",
   "execution_count": 13,
   "id": "824c79b2-93a5-4dde-9c38-6e9668037582",
   "metadata": {},
   "outputs": [
    {
     "name": "stdout",
     "output_type": "stream",
     "text": [
      "g\n"
     ]
    }
   ],
   "source": [
    "print(Greeting[-1])"
   ]
  },
  {
   "cell_type": "markdown",
   "id": "e4cbe58f-6cad-4d17-9942-0b2561dc8383",
   "metadata": {},
   "source": [
    "- C.Print the first 5 characters of the string."
   ]
  },
  {
   "cell_type": "code",
   "execution_count": 14,
   "id": "7ad855bb-0e57-4aee-92e2-03503f54814c",
   "metadata": {},
   "outputs": [
    {
     "name": "stdout",
     "output_type": "stream",
     "text": [
      "Hello!\n"
     ]
    }
   ],
   "source": [
    "print(Greeting[:6])"
   ]
  },
  {
   "cell_type": "markdown",
   "id": "76d52843-bae5-470b-8c27-885d1dd4aee6",
   "metadata": {},
   "source": [
    "- D.Print the last 11 characters of the string."
   ]
  },
  {
   "cell_type": "code",
   "execution_count": 15,
   "id": "c5c25c78-2ec7-4871-8b3c-1797fd55af27",
   "metadata": {},
   "outputs": [
    {
     "name": "stdout",
     "output_type": "stream",
     "text": [
      "programming\n"
     ]
    }
   ],
   "source": [
    "print(Greeting[-11:])"
   ]
  },
  {
   "cell_type": "markdown",
   "id": "e8825715-b252-41e7-8f17-1b64b3791e18",
   "metadata": {},
   "source": [
    "- E.Print the string in reverse."
   ]
  },
  {
   "cell_type": "code",
   "execution_count": 39,
   "id": "7a04118c-a27c-487f-afa1-aaf0f318b97a",
   "metadata": {},
   "outputs": [
    {
     "name": "stdout",
     "output_type": "stream",
     "text": [
      "gnimmargorp nohtyP ot emoclew uruG !olleH\n"
     ]
    }
   ],
   "source": [
    "print(Greeting[::-1])"
   ]
  },
  {
   "cell_type": "markdown",
   "id": "a4a15958-b3ff-4e8c-a9e0-685d8fda8aba",
   "metadata": {},
   "source": [
    "- F.Use slicing and print the word “Python” from the existing string."
   ]
  },
  {
   "cell_type": "code",
   "execution_count": 17,
   "id": "06ef7611-8b53-4546-8cef-d034e96d8bb8",
   "metadata": {},
   "outputs": [
    {
     "name": "stdout",
     "output_type": "stream",
     "text": [
      "23\n"
     ]
    }
   ],
   "source": [
    "print(Greeting.find(\"Python\"))"
   ]
  },
  {
   "cell_type": "code",
   "execution_count": 18,
   "id": "6164dc0f-747f-4733-a558-6d3ddb15852a",
   "metadata": {},
   "outputs": [
    {
     "name": "stdout",
     "output_type": "stream",
     "text": [
      "Python\n"
     ]
    }
   ],
   "source": [
    "print(Greeting[23:29])"
   ]
  },
  {
   "cell_type": "markdown",
   "id": "1424bebf-da96-4025-bf1d-3e0423e1c2d2",
   "metadata": {},
   "source": [
    "## 3. String Methods:\n"
   ]
  },
  {
   "cell_type": "code",
   "execution_count": 40,
   "id": "6967b93a-0922-4b5e-a077-6ccc2b9528c8",
   "metadata": {},
   "outputs": [],
   "source": [
    "strM = \"Python beginner tutorial\""
   ]
  },
  {
   "cell_type": "markdown",
   "id": "0afe957a-f321-45a5-a3d4-a6de0daa43ca",
   "metadata": {},
   "source": [
    "- A. Convert the sentence to uppercase."
   ]
  },
  {
   "cell_type": "code",
   "execution_count": 20,
   "id": "e87d8898-319a-4354-b2fd-59c9f9c98fa1",
   "metadata": {},
   "outputs": [
    {
     "name": "stdout",
     "output_type": "stream",
     "text": [
      "PYTHON BEGINNER TUTORIAL\n"
     ]
    }
   ],
   "source": [
    "print(strM.upper())"
   ]
  },
  {
   "cell_type": "markdown",
   "id": "a1cf8139-921c-4ab4-968c-ac7b920baf89",
   "metadata": {},
   "source": [
    "- B. Convert the sentence to lowercase."
   ]
  },
  {
   "cell_type": "code",
   "execution_count": 21,
   "id": "05300bda-2d48-4b5b-90b4-364c5acf4ffa",
   "metadata": {},
   "outputs": [
    {
     "data": {
      "text/plain": [
       "'python beginner tutorial'"
      ]
     },
     "execution_count": 21,
     "metadata": {},
     "output_type": "execute_result"
    }
   ],
   "source": [
    "strM.lower()"
   ]
  },
  {
   "cell_type": "markdown",
   "id": "69473666-62d9-4c2d-b861-3e2169c91ee9",
   "metadata": {},
   "source": [
    "- C. Use Capitalize and return the sentence to the original input form."
   ]
  },
  {
   "cell_type": "code",
   "execution_count": 32,
   "id": "eeffa499-019f-4a42-886a-c04546107583",
   "metadata": {},
   "outputs": [
    {
     "data": {
      "text/plain": [
       "'Python beginner tutorial'"
      ]
     },
     "execution_count": 32,
     "metadata": {},
     "output_type": "execute_result"
    }
   ],
   "source": [
    "strM.capitalize() "
   ]
  },
  {
   "cell_type": "markdown",
   "id": "c8b01902-53cc-4368-b3e3-2f3b24ab6983",
   "metadata": {},
   "source": [
    "- D. Count the total number of occurrences of character ‘t’  in the string."
   ]
  },
  {
   "cell_type": "code",
   "execution_count": 31,
   "id": "85ed7f2a-f17e-4721-8f27-b41c9486374b",
   "metadata": {},
   "outputs": [
    {
     "data": {
      "text/plain": [
       "3"
      ]
     },
     "execution_count": 31,
     "metadata": {},
     "output_type": "execute_result"
    }
   ],
   "source": [
    "strM.count(\"t\")"
   ]
  },
  {
   "cell_type": "markdown",
   "id": "37bbab77-e8d2-489a-9920-f655270dc82a",
   "metadata": {},
   "source": [
    "- E. Replace all occurrences of “Python” with “Machine Learning”  in the input string strM = “Python beginner tutorial” "
   ]
  },
  {
   "cell_type": "code",
   "execution_count": 27,
   "id": "d03de66c-ae21-4996-8849-a6de48b611b6",
   "metadata": {},
   "outputs": [
    {
     "name": "stdout",
     "output_type": "stream",
     "text": [
      "Machine Learning beginner tutorial\n"
     ]
    }
   ],
   "source": [
    "print(strM.replace(\"Python\",\"Machine Learning\"))"
   ]
  },
  {
   "cell_type": "markdown",
   "id": "065a867e-9d86-4cbb-8edc-a636beee0e9b",
   "metadata": {},
   "source": [
    "# Tuples (Creation, Modification and Access) :"
   ]
  },
  {
   "cell_type": "code",
   "execution_count": 37,
   "id": "25231014-ae27-4e70-ad51-9c40a9dfd59a",
   "metadata": {
    "jp-MarkdownHeadingCollapsed": true
   },
   "outputs": [
    {
     "data": {
      "text/plain": [
       "(10, 20, 30)"
      ]
     },
     "execution_count": 37,
     "metadata": {},
     "output_type": "execute_result"
    }
   ],
   "source": [
    "tuple1 = (10,20,30) \n",
    "tuple1"
   ]
  },
  {
   "cell_type": "code",
   "execution_count": 38,
   "id": "9b7f51f5-c2ab-475a-84a5-c8954cf9f244",
   "metadata": {},
   "outputs": [
    {
     "data": {
      "text/plain": [
       "(40, 50, 60)"
      ]
     },
     "execution_count": 38,
     "metadata": {},
     "output_type": "execute_result"
    }
   ],
   "source": [
    "tuple2 = (40,50,60)\n",
    "tuple2"
   ]
  },
  {
   "cell_type": "markdown",
   "id": "f8796efc-3d7b-4ef6-ae5b-d0ec855dcc99",
   "metadata": {},
   "source": [
    "- A. Concatenate the two tuples and store it in “t_combine” "
   ]
  },
  {
   "cell_type": "code",
   "execution_count": 43,
   "id": "63131614-962a-417e-a85c-5b3aa4d84bc5",
   "metadata": {},
   "outputs": [
    {
     "data": {
      "text/plain": [
       "(10, 20, 30, 40, 50, 60)"
      ]
     },
     "execution_count": 43,
     "metadata": {},
     "output_type": "execute_result"
    }
   ],
   "source": [
    "t_combine = tuple1 + tuple2\n",
    "t_combine"
   ]
  },
  {
   "cell_type": "markdown",
   "id": "c229999c-3559-4599-a30d-83ec6eeafc09",
   "metadata": {},
   "source": [
    "- B. Repeat the elements of “t_combine” 3 times "
   ]
  },
  {
   "cell_type": "code",
   "execution_count": 47,
   "id": "3302011b-df49-4f12-bd13-b88827a7405b",
   "metadata": {},
   "outputs": [
    {
     "data": {
      "text/plain": [
       "(10, 20, 30, 40, 50, 60, 10, 20, 30, 40, 50, 60, 10, 20, 30, 40, 50, 60)"
      ]
     },
     "execution_count": 47,
     "metadata": {},
     "output_type": "execute_result"
    }
   ],
   "source": [
    "(t_combine)*3"
   ]
  },
  {
   "cell_type": "markdown",
   "id": "ea3e6ff3-870f-4904-ba1f-8b17bb9cb3a1",
   "metadata": {},
   "source": [
    "- C. Access the 3rd element from “t_combine” "
   ]
  },
  {
   "cell_type": "code",
   "execution_count": 50,
   "id": "a4474c79-e1dd-4293-bb00-ccb5ef79731b",
   "metadata": {},
   "outputs": [
    {
     "data": {
      "text/plain": [
       "30"
      ]
     },
     "execution_count": 50,
     "metadata": {},
     "output_type": "execute_result"
    }
   ],
   "source": [
    "t_combine[2]"
   ]
  },
  {
   "cell_type": "markdown",
   "id": "55052f6d-47f6-4a52-bd6a-a1a1f8bcd7c9",
   "metadata": {},
   "source": [
    "- D. Access the first three elements from “t_combine” "
   ]
  },
  {
   "cell_type": "code",
   "execution_count": 57,
   "id": "e58ac4b0-970e-4385-be67-06ffbaf94ae2",
   "metadata": {},
   "outputs": [
    {
     "data": {
      "text/plain": [
       "(10, 20, 30)"
      ]
     },
     "execution_count": 57,
     "metadata": {},
     "output_type": "execute_result"
    }
   ],
   "source": [
    "t_combine[:3]"
   ]
  },
  {
   "cell_type": "markdown",
   "id": "309f576c-d444-4aa6-b795-aebc5ffd75ce",
   "metadata": {},
   "source": [
    "- E. Access the last three elements from “t_combine”"
   ]
  },
  {
   "cell_type": "code",
   "execution_count": 58,
   "id": "716cb9c4-cc36-4985-a24d-898c7882e5da",
   "metadata": {},
   "outputs": [
    {
     "data": {
      "text/plain": [
       "(40, 50, 60)"
      ]
     },
     "execution_count": 58,
     "metadata": {},
     "output_type": "execute_result"
    }
   ],
   "source": [
    "t_combine[-3:]"
   ]
  },
  {
   "cell_type": "code",
   "execution_count": null,
   "id": "6670309d-8b52-41fa-92eb-b6f4e694c017",
   "metadata": {},
   "outputs": [],
   "source": []
  }
 ],
 "metadata": {
  "kernelspec": {
   "display_name": "Python 3 (ipykernel)",
   "language": "python",
   "name": "python3"
  },
  "language_info": {
   "codemirror_mode": {
    "name": "ipython",
    "version": 3
   },
   "file_extension": ".py",
   "mimetype": "text/x-python",
   "name": "python",
   "nbconvert_exporter": "python",
   "pygments_lexer": "ipython3",
   "version": "3.12.7"
  }
 },
 "nbformat": 4,
 "nbformat_minor": 5
}
