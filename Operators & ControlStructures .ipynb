{
 "cells": [
  {
   "cell_type": "markdown",
   "id": "37e5bc77-eb2e-4faf-935c-a1aedef5571a",
   "metadata": {},
   "source": [
    "# Python Assignment 3: Operators & Control Structures - IF, ELIF, ELSE, WHILE loop\n"
   ]
  },
  {
   "cell_type": "markdown",
   "id": "f04c6dff-ee09-4d8f-9c38-626f87e35257",
   "metadata": {},
   "source": [
    "## Operators & Conditional Statements :\n",
    "(IF, ELIF, ELSE)\n",
    "\n"
   ]
  },
  {
   "cell_type": "code",
   "execution_count": 7,
   "id": "9d0ce774-a2bb-4197-a1b3-880b37c86efa",
   "metadata": {},
   "outputs": [
    {
     "name": "stdin",
     "output_type": "stream",
     "text": [
      "Enter Your Score from 0 to 10:  2\n"
     ]
    },
    {
     "name": "stdout",
     "output_type": "stream",
     "text": [
      "Below Average\n",
      "You Scored 2. Very Low Performance! you need to improve your performance\n"
     ]
    }
   ],
   "source": [
    "Score = int(input(\"Enter Your Score from 0 to 10: \"))\n",
    "if Score>10:\n",
    "    print (\"Out Of Range\",\"Enter Score Range Between 0 to 10\")\n",
    "elif Score >7:\n",
    "    print(\"Above Average\")\n",
    "    print(f\"You Scored {Score}. Excellent Work! Keep Going\")\n",
    "elif Score<7 and Score>4:\n",
    "    print(\"Average\")\n",
    "    print(f\"You Scored {Score}. Good effort! Keep practise\")\n",
    "elif Score<4:\n",
    "    print(\"Below Average\")\n",
    "    print(f\"You Scored {Score}. Very Low Performance! you need to improve your performance\")"
   ]
  },
  {
   "cell_type": "code",
   "execution_count": 2,
   "id": "6dbda655-0eb2-46c0-8d07-8214003f8473",
   "metadata": {},
   "outputs": [
    {
     "name": "stdout",
     "output_type": "stream",
     "text": [
      "Welcome to Number Guessing Game\n"
     ]
    },
    {
     "name": "stdin",
     "output_type": "stream",
     "text": [
      "Enter Your Guessing number :  2\n"
     ]
    },
    {
     "name": "stdout",
     "output_type": "stream",
     "text": [
      "Number 2 is Less than Scecret number.  Try Again\n",
      "Your remaining attempt is 2\n"
     ]
    },
    {
     "name": "stdin",
     "output_type": "stream",
     "text": [
      "Enter Your Guessing number :  6\n"
     ]
    },
    {
     "name": "stdout",
     "output_type": "stream",
     "text": [
      "Number 6 is Less than Scecret number.  Try Again\n",
      "Your remaining attempt is 1\n"
     ]
    },
    {
     "name": "stdin",
     "output_type": "stream",
     "text": [
      "Enter Your Guessing number :  5\n"
     ]
    },
    {
     "name": "stdout",
     "output_type": "stream",
     "text": [
      "Number 5 is Less than Scecret number.  Try Again\n",
      "Your remaining attempt is 0\n",
      "Your reached the limited attempt\n",
      "The Secret number is 10!...Better luck next time!\n"
     ]
    }
   ],
   "source": [
    "import random\n",
    "secret_number = random.randint(1, 10)\n",
    "attempt=3\n",
    "print(\"Welcome to Number Guessing Game\")\n",
    "while attempt>0:\n",
    "    Guess_the_number=int(input(\"Enter Your Guessing number : \"))\n",
    "    if Guess_the_number==secret_number:\n",
    "        print(\"Congratulations You win the Game! You guessed the correct number\")\n",
    "        break\n",
    "    elif Guess_the_number>10:\n",
    "        print(\"Your guess is out of range. Please guess a number between 1 and 10.\")\n",
    "        continue\n",
    "    elif Guess_the_number>secret_number:\n",
    "        print(f\"Number {Guess_the_number} is Greater than Scecret number.  Try Again\")\n",
    "        print(f\"Your remaining attempt is {attempt -1}\")\n",
    "    elif Guess_the_number<secret_number:    \n",
    "        print(f\"Number {Guess_the_number} is Less than Scecret number.  Try Again\")\n",
    "        print(f\"Your remaining attempt is {attempt-1}\")\n",
    "    attempt-=1\n",
    "else:\n",
    "    print(\"Your reached the limited attempt\")\n",
    "    print(f\"The Secret number is {secret_number}!...Better luck next time!\" )"
   ]
  },
  {
   "cell_type": "code",
   "execution_count": null,
   "id": "942ca7c7-1b16-4cc7-9cec-f67344bf7718",
   "metadata": {},
   "outputs": [],
   "source": []
  },
  {
   "cell_type": "code",
   "execution_count": null,
   "id": "76af2246-6e3c-4132-b8ff-98d4c07fb427",
   "metadata": {},
   "outputs": [],
   "source": []
  }
 ],
 "metadata": {
  "kernelspec": {
   "display_name": "Python 3 (ipykernel)",
   "language": "python",
   "name": "python3"
  },
  "language_info": {
   "codemirror_mode": {
    "name": "ipython",
    "version": 3
   },
   "file_extension": ".py",
   "mimetype": "text/x-python",
   "name": "python",
   "nbconvert_exporter": "python",
   "pygments_lexer": "ipython3",
   "version": "3.12.7"
  }
 },
 "nbformat": 4,
 "nbformat_minor": 5
}
