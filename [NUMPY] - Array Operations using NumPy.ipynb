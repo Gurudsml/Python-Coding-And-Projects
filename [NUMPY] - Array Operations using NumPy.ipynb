{
 "cells": [
  {
   "cell_type": "markdown",
   "id": "28c70fc7-6580-4898-b4ef-adfb033e13eb",
   "metadata": {},
   "source": [
    "## Using NumPy "
   ]
  },
  {
   "cell_type": "code",
   "execution_count": 1,
   "id": "2d435f46-6ccb-424d-abc0-94a0b889e33c",
   "metadata": {},
   "outputs": [
    {
     "name": "stdout",
     "output_type": "stream",
     "text": [
      "Defaulting to user installation because normal site-packages is not writeable\n",
      "Requirement already satisfied: NumPy in c:\\programdata\\anaconda3\\lib\\site-packages (1.26.4)\n"
     ]
    }
   ],
   "source": [
    "!pip install NumPy"
   ]
  },
  {
   "cell_type": "code",
   "execution_count": 2,
   "id": "fe9aadeb-bbe5-4866-a385-4d82810b6a33",
   "metadata": {},
   "outputs": [],
   "source": [
    "import numpy as np"
   ]
  },
  {
   "cell_type": "markdown",
   "id": "8810d6a8-9142-4096-96fa-fcadd06db910",
   "metadata": {},
   "source": [
    "### Creating array"
   ]
  },
  {
   "cell_type": "markdown",
   "id": "884de145-0de4-4041-b79f-ea96c395398c",
   "metadata": {},
   "source": [
    "#### 1-Dimensional array"
   ]
  },
  {
   "cell_type": "code",
   "execution_count": 3,
   "id": "d40a32b7-1d4f-4273-ae40-cebd34aec11c",
   "metadata": {},
   "outputs": [
    {
     "data": {
      "text/plain": [
       "array([22.5, 25.3, 20.8, 23.4, 26.1, 24.8, 21.9])"
      ]
     },
     "execution_count": 3,
     "metadata": {},
     "output_type": "execute_result"
    }
   ],
   "source": [
    "temperatures_w1 = np.array([22.5, 25.3, 20.8, 23.4, 26.1, 24.8, 21.9])\n",
    "temperatures_w1"
   ]
  },
  {
   "cell_type": "markdown",
   "id": "4452b07a-6ac0-45e7-b5e2-6f8f70dcaa05",
   "metadata": {},
   "source": [
    "#### 2.\tInspection and Properties"
   ]
  },
  {
   "cell_type": "code",
   "execution_count": 5,
   "id": "f98c89ae-5e86-4a74-b240-b3e2f163b6c2",
   "metadata": {},
   "outputs": [
    {
     "data": {
      "text/plain": [
       "(7,)"
      ]
     },
     "execution_count": 5,
     "metadata": {},
     "output_type": "execute_result"
    }
   ],
   "source": [
    "temperatures_w1.shape"
   ]
  },
  {
   "cell_type": "code",
   "execution_count": 6,
   "id": "fe3dad41-6f1a-48d0-a0f1-79f0d23d10e1",
   "metadata": {},
   "outputs": [
    {
     "data": {
      "text/plain": [
       "dtype('float64')"
      ]
     },
     "execution_count": 6,
     "metadata": {},
     "output_type": "execute_result"
    }
   ],
   "source": [
    "temperatures_w1.dtype"
   ]
  },
  {
   "cell_type": "code",
   "execution_count": 7,
   "id": "f446a1d2-edba-4045-abbb-45767c16b353",
   "metadata": {},
   "outputs": [
    {
     "data": {
      "text/plain": [
       "7"
      ]
     },
     "execution_count": 7,
     "metadata": {},
     "output_type": "execute_result"
    }
   ],
   "source": [
    "temperatures_w1.size"
   ]
  },
  {
   "cell_type": "markdown",
   "id": "83b7e633-27fd-4055-91d7-2676be0baaa7",
   "metadata": {},
   "source": [
    "#### 3.\tArray Operations"
   ]
  },
  {
   "cell_type": "code",
   "execution_count": 8,
   "id": "cc440e76-3419-4885-b7ac-27d813d570b2",
   "metadata": {},
   "outputs": [
    {
     "data": {
      "text/plain": [
       "array([72.5 , 77.54, 69.44, 74.12, 78.98, 76.64, 71.42])"
      ]
     },
     "execution_count": 8,
     "metadata": {},
     "output_type": "execute_result"
    }
   ],
   "source": [
    "temperatures_in_F = (temperatures_w1*9/5)+32\n",
    "temperatures_in_F"
   ]
  },
  {
   "cell_type": "code",
   "execution_count": 16,
   "id": "776934d9-aae6-4590-b732-f8d32059ca6c",
   "metadata": {},
   "outputs": [
    {
     "name": "stdout",
     "output_type": "stream",
     "text": [
      "Maximum temperatures of the week = 26.1\n",
      "Minimum temperatures of the week = 20.8\n"
     ]
    }
   ],
   "source": [
    "print(f\"Maximum temperatures of the week = {temperatures_w1.max()}\")\n",
    "print(f\"Minimum temperatures of the week = {temperatures_w1.min()}\")"
   ]
  },
  {
   "cell_type": "code",
   "execution_count": 20,
   "id": "35a1df74-a028-406e-b034-9862c60219c7",
   "metadata": {},
   "outputs": [
    {
     "data": {
      "text/plain": [
       "'Average tempratures of the week = 23.54'"
      ]
     },
     "execution_count": 20,
     "metadata": {},
     "output_type": "execute_result"
    }
   ],
   "source": [
    "f'Average tempratures of the week = {temperatures_w1.mean():.2f}'"
   ]
  },
  {
   "cell_type": "markdown",
   "id": "fb5aec67-464b-4e44-a253-b78a7374933a",
   "metadata": {},
   "source": [
    "#### 4.\tArray Slicing and Indexing"
   ]
  },
  {
   "cell_type": "code",
   "execution_count": 24,
   "id": "a9a70f20-5063-4d9e-92f3-51756c025986",
   "metadata": {},
   "outputs": [
    {
     "data": {
      "text/plain": [
       "'temperatures for the first three days of the week = [22.5 25.3 20.8]'"
      ]
     },
     "execution_count": 24,
     "metadata": {},
     "output_type": "execute_result"
    }
   ],
   "source": [
    "f\"Temperatures for the first three days of the week = {temperatures_w1[:3]}\""
   ]
  },
  {
   "cell_type": "code",
   "execution_count": 25,
   "id": "6495686a-65a8-45eb-a756-82a5c41ead21",
   "metadata": {},
   "outputs": [
    {
     "data": {
      "text/plain": [
       "'Temperatures for the weekend last two days = [24.8 21.9]'"
      ]
     },
     "execution_count": 25,
     "metadata": {},
     "output_type": "execute_result"
    }
   ],
   "source": [
    "f\"Temperatures for the weekend last two days = {temperatures_w1[-2:]}\""
   ]
  },
  {
   "cell_type": "code",
   "execution_count": 26,
   "id": "e6945879-2267-4393-bf46-1a9827ab47cb",
   "metadata": {},
   "outputs": [
    {
     "data": {
      "text/plain": [
       "'Temperatures for the middle three days of the week = [20.8 23.4 26.1]'"
      ]
     },
     "execution_count": 26,
     "metadata": {},
     "output_type": "execute_result"
    }
   ],
   "source": [
    "f\"Temperatures for the middle three days of the week = {temperatures_w1[2:5]}\""
   ]
  },
  {
   "cell_type": "markdown",
   "id": "3c736fb2-b1bc-4e34-95ef-0e1345b13172",
   "metadata": {},
   "source": [
    "#### 5.\tCreate a 2D Array"
   ]
  },
  {
   "cell_type": "code",
   "execution_count": 33,
   "id": "306ae104-7356-48f8-b083-e8c6f0ae69bc",
   "metadata": {},
   "outputs": [
    {
     "data": {
      "text/plain": [
       "array([[22.5, 25.3, 20.8, 23.4, 26.1, 24.8, 21.9],\n",
       "       [19.2, 22.5, 21.3, 24. , 23.5, 22.8, 20.1]])"
      ]
     },
     "execution_count": 33,
     "metadata": {},
     "output_type": "execute_result"
    }
   ],
   "source": [
    "temperatures = np.array([[22.5, 25.3, 20.8, 23.4, 26.1, 24.8, 21.9],\n",
    "                [19.2, 22.5, 21.3, 24.0, 23.5, 22.8, 20.1] \n",
    "               ])\n",
    "temperatures"
   ]
  },
  {
   "cell_type": "code",
   "execution_count": 34,
   "id": "5cc19dec-8798-47a1-bf99-422ca1d12fee",
   "metadata": {},
   "outputs": [
    {
     "name": "stdout",
     "output_type": "stream",
     "text": [
      "(2, 7)\n",
      "float64\n"
     ]
    },
    {
     "data": {
      "text/plain": [
       "14"
      ]
     },
     "execution_count": 34,
     "metadata": {},
     "output_type": "execute_result"
    }
   ],
   "source": [
    "print(temperatures.shape)\n",
    "print(temperatures.dtype)\n",
    "temperatures .size"
   ]
  },
  {
   "cell_type": "code",
   "execution_count": 35,
   "id": "30dbf75a-346a-499f-8661-d50380d3e800",
   "metadata": {},
   "outputs": [
    {
     "data": {
      "text/plain": [
       "'The temperatures for the first week = [[22.5 25.3 20.8 23.4 26.1 24.8 21.9]]'"
      ]
     },
     "execution_count": 35,
     "metadata": {},
     "output_type": "execute_result"
    }
   ],
   "source": [
    "f\"The temperatures for the first week = {temperatures[:1]}\""
   ]
  },
  {
   "cell_type": "code",
   "execution_count": 37,
   "id": "98e39edf-10e9-41f4-8edc-21729219f8ee",
   "metadata": {},
   "outputs": [
    {
     "data": {
      "text/plain": [
       "'The temperatures for the second week = [[19.2 22.5 21.3 24.  23.5 22.8 20.1]]'"
      ]
     },
     "execution_count": 37,
     "metadata": {},
     "output_type": "execute_result"
    }
   ],
   "source": [
    "f\"The temperatures for the second week = {temperatures[1:2]}\""
   ]
  },
  {
   "cell_type": "code",
   "execution_count": 39,
   "id": "283e1e8d-5a5f-4ace-9698-6ffa45ce6360",
   "metadata": {},
   "outputs": [
    {
     "name": "stdout",
     "output_type": "stream",
     "text": [
      "The temperatures for the first three days of each week = [[22.5 25.3 20.8]\n",
      " [19.2 22.5 21.3]]\n"
     ]
    }
   ],
   "source": [
    "print(F\"The temperatures for the first three days of each week = {temperatures[:,:3]}\")"
   ]
  },
  {
   "cell_type": "code",
   "execution_count": 42,
   "id": "3e1cbd1c-6498-4699-8c6c-58bc116b858e",
   "metadata": {},
   "outputs": [
    {
     "data": {
      "text/plain": [
       "'The temperatures for the weekends (last two days) of both weeks = [[24.8 21.9]\\n [22.8 20.1]]'"
      ]
     },
     "execution_count": 42,
     "metadata": {},
     "output_type": "execute_result"
    }
   ],
   "source": [
    "F\"The temperatures for the weekends (last two days) of both weeks = {temperatures[:,-2:]}\""
   ]
  },
  {
   "cell_type": "code",
   "execution_count": null,
   "id": "c7a1b790-eb1e-4907-99b0-b872980f2100",
   "metadata": {},
   "outputs": [],
   "source": []
  }
 ],
 "metadata": {
  "kernelspec": {
   "display_name": "Python 3 (ipykernel)",
   "language": "python",
   "name": "python3"
  },
  "language_info": {
   "codemirror_mode": {
    "name": "ipython",
    "version": 3
   },
   "file_extension": ".py",
   "mimetype": "text/x-python",
   "name": "python",
   "nbconvert_exporter": "python",
   "pygments_lexer": "ipython3",
   "version": "3.12.7"
  }
 },
 "nbformat": 4,
 "nbformat_minor": 5
}
