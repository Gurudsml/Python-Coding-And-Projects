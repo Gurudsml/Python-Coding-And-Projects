{
 "cells": [
  {
   "cell_type": "markdown",
   "id": "2d187b43-ff64-4c72-8770-02730994ecd1",
   "metadata": {},
   "source": [
    "# Data Structures - List, Dictionary, Set, Frozenset"
   ]
  },
  {
   "cell_type": "markdown",
   "id": "8234537f-1b2c-49db-b08f-4dbaf8c74ae2",
   "metadata": {},
   "source": [
    "## List (Creation, Modification and Access): "
   ]
  },
  {
   "cell_type": "markdown",
   "id": "4695aa96-3939-4ace-8cf2-c350ca0f3bfd",
   "metadata": {},
   "source": [
    "### 1. **list creation**"
   ]
  },
  {
   "cell_type": "markdown",
   "id": "4377e095-9d7b-4d34-9d50-e9d87520ff9a",
   "metadata": {},
   "source": [
    "- A. Create a list named age_list with five integer elements. For eg., [24, 25, 26, 27, 28]"
   ]
  },
  {
   "cell_type": "code",
   "execution_count": 1,
   "id": "addc774f-5b86-480e-91fe-845802a17030",
   "metadata": {},
   "outputs": [
    {
     "data": {
      "text/plain": [
       "[24, 25, 26, 27, 28]"
      ]
     },
     "execution_count": 1,
     "metadata": {},
     "output_type": "execute_result"
    }
   ],
   "source": [
    "age_list = [24,25,26,27,28]\n",
    "age_list"
   ]
  },
  {
   "cell_type": "markdown",
   "id": "31cd87f3-7e2d-4720-9ca9-4ccb3a832d24",
   "metadata": {},
   "source": [
    "- B. Create a list named name_list with five string elements."
   ]
  },
  {
   "cell_type": "code",
   "execution_count": 3,
   "id": "8fc04893-c7a5-4f29-8a51-ccd2c219e84a",
   "metadata": {},
   "outputs": [
    {
     "data": {
      "text/plain": [
       "['A', 'B', 'C', 'D', 'E']"
      ]
     },
     "execution_count": 3,
     "metadata": {},
     "output_type": "execute_result"
    }
   ],
   "source": [
    "name_list = ['A','B','C','D','E']\n",
    "name_list"
   ]
  },
  {
   "cell_type": "markdown",
   "id": "c7f6d64d-ef77-4633-8e0a-fe57c2432d61",
   "metadata": {},
   "source": [
    "### 2. List Operations / Modifications:"
   ]
  },
  {
   "cell_type": "markdown",
   "id": "71159995-fd82-40a8-9bf5-3df82b7598a3",
   "metadata": {},
   "source": [
    "- A. Append the string \"Yazhini\" to name_list."
   ]
  },
  {
   "cell_type": "code",
   "execution_count": 41,
   "id": "3f1d3cc2-b077-4847-95f0-f64f66df1998",
   "metadata": {},
   "outputs": [
    {
     "data": {
      "text/plain": [
       "['A', 'B', 'C', 'D', 'E', 'Yazhini']"
      ]
     },
     "execution_count": 41,
     "metadata": {},
     "output_type": "execute_result"
    }
   ],
   "source": [
    "name_list.append(\"Yazhini\")\n",
    "name_list"
   ]
  },
  {
   "cell_type": "markdown",
   "id": "38d46083-f80e-4acb-baea-91abab8c11f3",
   "metadata": {},
   "source": [
    "- B. Insert the element 30 at index 2 in age_list. "
   ]
  },
  {
   "cell_type": "code",
   "execution_count": 36,
   "id": "af33ea2f-dfed-471c-8d5d-5cd44dd9f42f",
   "metadata": {},
   "outputs": [
    {
     "data": {
      "text/plain": [
       "[24, 25, 30, 26, 27, 28]"
      ]
     },
     "execution_count": 36,
     "metadata": {},
     "output_type": "execute_result"
    }
   ],
   "source": [
    "age_list.insert(2,30)\n",
    "age_list"
   ]
  },
  {
   "cell_type": "markdown",
   "id": "b51344f4-b971-47e4-8978-ad72ac369a4e",
   "metadata": {},
   "source": [
    "- C. Remove the string \"Yazhini\" from name_list."
   ]
  },
  {
   "cell_type": "code",
   "execution_count": 43,
   "id": "96f868b2-2c11-435d-8c76-7bee0b7afad1",
   "metadata": {},
   "outputs": [
    {
     "data": {
      "text/plain": [
       "['A', 'B', 'C', 'D', 'E']"
      ]
     },
     "execution_count": 43,
     "metadata": {},
     "output_type": "execute_result"
    }
   ],
   "source": [
    "name_list.remove(\"Yazhini\")\n",
    "name_list"
   ]
  },
  {
   "cell_type": "markdown",
   "id": "011df358-d25f-4145-95b3-2e5dc22fafd1",
   "metadata": {},
   "source": [
    "- D. Pop the last element from age_list."
   ]
  },
  {
   "cell_type": "code",
   "execution_count": 45,
   "id": "232b4951-ad39-4d3a-8e99-8e1644616941",
   "metadata": {},
   "outputs": [
    {
     "data": {
      "text/plain": [
       "[24, 25, 30, 26, 27]"
      ]
     },
     "execution_count": 45,
     "metadata": {},
     "output_type": "execute_result"
    }
   ],
   "source": [
    "age_list.pop(-1)\n",
    "age_list"
   ]
  },
  {
   "cell_type": "markdown",
   "id": "a69d1f18-5a5a-4de7-bed6-a3c09968f444",
   "metadata": {},
   "source": [
    "- E. Extend the age_list with additional ages [29, 30, 26]."
   ]
  },
  {
   "cell_type": "code",
   "execution_count": 51,
   "id": "427a06cd-48b5-4003-9363-9aa10ce44df6",
   "metadata": {},
   "outputs": [],
   "source": [
    "age_list.extend([29,30,26])\n",
    "age_lst"
   ]
  },
  {
   "cell_type": "markdown",
   "id": "a10149d1-fb14-4728-86b5-e495afe6c423",
   "metadata": {},
   "source": [
    "- F. Sort age_list in descending order."
   ]
  },
  {
   "cell_type": "code",
   "execution_count": 54,
   "id": "c781564f-9b18-4642-a2a7-2c03cea34eff",
   "metadata": {},
   "outputs": [
    {
     "data": {
      "text/plain": [
       "[30, 30, 29, 27, 26, 26, 25, 24]"
      ]
     },
     "execution_count": 54,
     "metadata": {},
     "output_type": "execute_result"
    }
   ],
   "source": [
    "age_list.sort(reverse = True)\n",
    "age_list"
   ]
  },
  {
   "cell_type": "markdown",
   "id": "d4f86801-f97f-4f18-87cc-58bdf3d7030d",
   "metadata": {},
   "source": [
    "- G. Find Max age, Min age and sum of all ages from age_list."
   ]
  },
  {
   "cell_type": "code",
   "execution_count": 72,
   "id": "eed1b6c8-dea6-46e9-9948-a13ce72955a3",
   "metadata": {},
   "outputs": [
    {
     "name": "stdout",
     "output_type": "stream",
     "text": [
      "('max=', 30) ('min =', 24) ('total=', 217)\n"
     ]
    }
   ],
   "source": [
    "max_age = max(age_list)\n",
    "min_age = min(age_list)\n",
    "total_age = sum(age_list)\n",
    "print(('max=',max_age),('min =',min_age),('total=',total_age))"
   ]
  },
  {
   "cell_type": "markdown",
   "id": "f2f848d3-2cd0-476b-be27-49f94bd92ea5",
   "metadata": {},
   "source": [
    "- H. Make a copy of age_list and store as age_list_copy"
   ]
  },
  {
   "cell_type": "code",
   "execution_count": 82,
   "id": "dbf42085-7c93-4c65-9e8c-34cce695b519",
   "metadata": {},
   "outputs": [
    {
     "name": "stdout",
     "output_type": "stream",
     "text": [
      "[30, 30, 29, 27, 26, 26, 25, 24]\n"
     ]
    }
   ],
   "source": [
    "age_list_copy = age_list.copy()\n",
    "age_list_copy"
   ]
  },
  {
   "cell_type": "markdown",
   "id": "f6b78387-ef3b-4779-8835-64f6e88d2257",
   "metadata": {},
   "source": [
    "- I. Clear all elements from age_list_copy."
   ]
  },
  {
   "cell_type": "code",
   "execution_count": 85,
   "id": "29e24b9b-3f8c-4feb-9c80-8f92e8aec421",
   "metadata": {},
   "outputs": [
    {
     "data": {
      "text/plain": [
       "[]"
      ]
     },
     "execution_count": 85,
     "metadata": {},
     "output_type": "execute_result"
    }
   ],
   "source": [
    "age_list_copy.clear()\n",
    "age_list_copy"
   ]
  },
  {
   "cell_type": "markdown",
   "id": "725f6b6a-8a9b-43a1-a94f-717f6f9acaeb",
   "metadata": {},
   "source": [
    "### 3. Accessing List Elements:"
   ]
  },
  {
   "cell_type": "markdown",
   "id": "cca32364-5d6e-421a-b000-47f4a52eb2b9",
   "metadata": {},
   "source": [
    "- A. Print the first element of name_list."
   ]
  },
  {
   "cell_type": "code",
   "execution_count": 86,
   "id": "2b1b7ecc-90cc-4296-939e-63bafcca80cd",
   "metadata": {},
   "outputs": [
    {
     "data": {
      "text/plain": [
       "'A'"
      ]
     },
     "execution_count": 86,
     "metadata": {},
     "output_type": "execute_result"
    }
   ],
   "source": [
    "name_list[0]"
   ]
  },
  {
   "cell_type": "markdown",
   "id": "173ecee7-5f22-4162-8651-178195dbad5e",
   "metadata": {},
   "source": [
    "- B. Print the last element of name_list."
   ]
  },
  {
   "cell_type": "code",
   "execution_count": 88,
   "id": "cd469dbe-d2b9-41d7-aa4d-49ff8aa2f4cb",
   "metadata": {},
   "outputs": [
    {
     "data": {
      "text/plain": [
       "'E'"
      ]
     },
     "execution_count": 88,
     "metadata": {},
     "output_type": "execute_result"
    }
   ],
   "source": [
    "name_list[-1]"
   ]
  },
  {
   "cell_type": "markdown",
   "id": "620c8d84-035f-4f2b-b42d-6b50132a1049",
   "metadata": {},
   "source": [
    "- C. Print the elements from index 2 to index 4 in name_list."
   ]
  },
  {
   "cell_type": "code",
   "execution_count": 90,
   "id": "4510bee7-1bc1-4002-a626-d2bbf2cccb1c",
   "metadata": {},
   "outputs": [
    {
     "data": {
      "text/plain": [
       "['C', 'D']"
      ]
     },
     "execution_count": 90,
     "metadata": {},
     "output_type": "execute_result"
    }
   ],
   "source": [
    "name_list[2:4]"
   ]
  },
  {
   "cell_type": "markdown",
   "id": "64ef610c-ad09-4ae1-a711-e892009e62c1",
   "metadata": {},
   "source": [
    "- D. Print the elements of name_list in reverse order."
   ]
  },
  {
   "cell_type": "code",
   "execution_count": 91,
   "id": "e46af984-9a91-472a-8d02-fe95920d22fe",
   "metadata": {},
   "outputs": [
    {
     "data": {
      "text/plain": [
       "['E', 'D', 'C', 'B', 'A']"
      ]
     },
     "execution_count": 91,
     "metadata": {},
     "output_type": "execute_result"
    }
   ],
   "source": [
    "name_list[::-1]"
   ]
  },
  {
   "cell_type": "markdown",
   "id": "49f53ebf-fba8-435e-a5e6-159882ad249e",
   "metadata": {},
   "source": [
    "- E. Create a list called list_dup = [1, 2, 1, 1, 3, 1, 2, 5, 9, 1] and print the number of times element ‘1’ has occurred."
   ]
  },
  {
   "cell_type": "code",
   "execution_count": 93,
   "id": "a45fb53e-3a0f-4238-97d1-422e9f8a1877",
   "metadata": {},
   "outputs": [
    {
     "data": {
      "text/plain": [
       "5"
      ]
     },
     "execution_count": 93,
     "metadata": {},
     "output_type": "execute_result"
    }
   ],
   "source": [
    "list_dup =  [1,2,1,1,3,1,2,5,9,1] \n",
    "list_dup.count(1)"
   ]
  },
  {
   "cell_type": "markdown",
   "id": "e044eae6-39f8-4485-9d13-e2b8b46ebf52",
   "metadata": {},
   "source": [
    "- F. Print length of list_dup."
   ]
  },
  {
   "cell_type": "code",
   "execution_count": 94,
   "id": "f02c57cd-84ec-4cd7-8905-76fe10266a43",
   "metadata": {},
   "outputs": [
    {
     "data": {
      "text/plain": [
       "10"
      ]
     },
     "execution_count": 94,
     "metadata": {},
     "output_type": "execute_result"
    }
   ],
   "source": [
    "len(list_dup)"
   ]
  },
  {
   "cell_type": "markdown",
   "id": "c4e252f2-a8a6-47b5-bbdf-4cf4943e04ad",
   "metadata": {},
   "source": [
    "# Dictionary (Creation, Modification and Access): "
   ]
  },
  {
   "cell_type": "markdown",
   "id": "a79f9144-97a6-4d72-ad32-bb1be8144f80",
   "metadata": {},
   "source": [
    "### 1. Dictionary Creation:"
   ]
  },
  {
   "cell_type": "markdown",
   "id": "f2e7f679-e8f2-4c21-9819-f5f7220bd2aa",
   "metadata": {},
   "source": [
    "- A. Create a dictionary named student_marks that maps the names of five students to their marks (use scale of from 0 to 100)."
   ]
  },
  {
   "cell_type": "code",
   "execution_count": 2,
   "id": "67ddcd3b-931c-448d-b364-17beea0680c3",
   "metadata": {},
   "outputs": [
    {
     "data": {
      "text/plain": [
       "{'Guru': 91, 'Shith': 95, 'Kavi': 20, 'Dhivan': 35, 'Karupu': 13}"
      ]
     },
     "execution_count": 2,
     "metadata": {},
     "output_type": "execute_result"
    }
   ],
   "source": [
    "student_marks = {\n",
    "    \"Guru\":91,\n",
    "    \"Shith\":95,\n",
    "    \"Kavi\":20,\n",
    "    \"Dhivan\":35,\n",
    "    \"Karupu\":13\n",
    "}\n",
    "student_marks"
   ]
  },
  {
   "cell_type": "markdown",
   "id": "7518806d-57ef-474d-86c0-8f56da4d4bce",
   "metadata": {},
   "source": [
    "- B. Access and print the mark of a specific student, of your choice."
   ]
  },
  {
   "cell_type": "code",
   "execution_count": 3,
   "id": "ac523b2b-b7b9-4642-bfa5-bedb5fb27b48",
   "metadata": {},
   "outputs": [
    {
     "data": {
      "text/plain": [
       "95"
      ]
     },
     "execution_count": 3,
     "metadata": {},
     "output_type": "execute_result"
    }
   ],
   "source": [
    "student_marks[\"Shith\"]"
   ]
  },
  {
   "cell_type": "markdown",
   "id": "39a5b880-aa67-4f05-ada6-9b7e19e5320c",
   "metadata": {},
   "source": [
    "### 2. Dictionary Modifications & Access:"
   ]
  },
  {
   "cell_type": "markdown",
   "id": "71800dd4-4d09-40b4-ac82-3817a3b6c429",
   "metadata": {},
   "source": [
    "- A. Add a new student \"Janani\" with a mark of 80 to the student_marks dictionary"
   ]
  },
  {
   "cell_type": "code",
   "execution_count": 30,
   "id": "befa3876-9fe3-4eca-b0a6-10fa86618ad9",
   "metadata": {},
   "outputs": [
    {
     "data": {
      "text/plain": [
       "{'Guru': 91, 'Shith': 95, 'Kavi': 20, 'Dhivan': 35, 'Karupu': 13, 'Janani': 80}"
      ]
     },
     "execution_count": 30,
     "metadata": {},
     "output_type": "execute_result"
    }
   ],
   "source": [
    "student_marks.update({\"Janani\":80})\n",
    "student_marks"
   ]
  },
  {
   "cell_type": "markdown",
   "id": "e7b8bbe8-a95a-48cc-b8dc-49dd28bd4913",
   "metadata": {},
   "source": [
    "- B. Update the mark of any one older student to 82."
   ]
  },
  {
   "cell_type": "code",
   "execution_count": 31,
   "id": "83342283-c8ac-40c6-b6e6-00bd53e9ff7a",
   "metadata": {},
   "outputs": [
    {
     "data": {
      "text/plain": [
       "{'Guru': 91, 'Shith': 95, 'Kavi': 82, 'Dhivan': 35, 'Karupu': 13, 'Janani': 80}"
      ]
     },
     "execution_count": 31,
     "metadata": {},
     "output_type": "execute_result"
    }
   ],
   "source": [
    "student_marks[\"Kavi\"]=82\n",
    "student_marks"
   ]
  },
  {
   "cell_type": "markdown",
   "id": "78b9df43-88b6-4744-a002-a8636203a2d1",
   "metadata": {},
   "source": [
    "- C. Use the keys(), values(), and items() methods to print all keys, values, and key-value pairs in the student_marks dictionary."
   ]
  },
  {
   "cell_type": "code",
   "execution_count": 39,
   "id": "87beefcc-20d2-43cd-900c-a3924e283884",
   "metadata": {},
   "outputs": [
    {
     "name": "stdout",
     "output_type": "stream",
     "text": [
      "dict_keys(['Guru', 'Shith', 'Kavi', 'Dhivan', 'Karupu', 'Janani'])\n",
      "dict_values([91, 95, 82, 35, 13, 80])\n"
     ]
    },
    {
     "data": {
      "text/plain": [
       "dict_items([('Guru', 91), ('Shith', 95), ('Kavi', 82), ('Dhivan', 35), ('Karupu', 13), ('Janani', 80)])"
      ]
     },
     "execution_count": 39,
     "metadata": {},
     "output_type": "execute_result"
    }
   ],
   "source": [
    "print(student_marks.keys())\n",
    "print(student_marks.values())\n",
    "student_marks.items()"
   ]
  },
  {
   "cell_type": "markdown",
   "id": "946dd4de-fa3a-47ad-b02b-f0c9816e0ec1",
   "metadata": {},
   "source": [
    "# Sets & Frozensets:"
   ]
  },
  {
   "cell_type": "markdown",
   "id": "f56a8244-9b79-4a98-9cc3-e076688d33dd",
   "metadata": {},
   "source": [
    "### 1. Sets: "
   ]
  },
  {
   "cell_type": "markdown",
   "id": "ae2105e7-41a4-4942-a840-7c1fd228c43c",
   "metadata": {},
   "source": [
    "- Create a set called my_set with following values:   \n",
    "  **['a','e','i','o','u','a','a','i']**\n",
    "Analyse the output and provide explanation for the same. "
   ]
  },
  {
   "cell_type": "code",
   "execution_count": 49,
   "id": "1502a7b8-366b-4ad4-8feb-09111d5124db",
   "metadata": {},
   "outputs": [
    {
     "name": "stdout",
     "output_type": "stream",
     "text": [
      "<class 'set'>\n"
     ]
    },
    {
     "data": {
      "text/plain": [
       "{'a', 'e', 'i', 'o', 'u'}"
      ]
     },
     "execution_count": 49,
     "metadata": {},
     "output_type": "execute_result"
    }
   ],
   "source": [
    "my_set = {'a','e','i','o','u','a','a','i'}\n",
    "print(type(my_set))\n",
    "my_set"
   ]
  },
  {
   "cell_type": "markdown",
   "id": "a8b3c874-f988-4539-95ea-637aca5b9ed2",
   "metadata": {},
   "source": [
    "- B. Attempt to change the value of my_set[4] = 's'. If code throws an error, provide an explanation."
   ]
  },
  {
   "cell_type": "code",
   "execution_count": 54,
   "id": "944e98e8-5126-4081-966f-75fc0b790043",
   "metadata": {},
   "outputs": [],
   "source": [
    "# my_set[4]='s'\n",
    "# Cause of set did not consider any Index value, that means set didn't maintain any order of elements.\n",
    "# it's unordered collection of unique elements."
   ]
  },
  {
   "cell_type": "markdown",
   "id": "3ed18d24-6f8e-4c3a-b074-4212797477f7",
   "metadata": {},
   "source": [
    "- C. Create two sets:         \n",
    "\t                   **set1 with values: {1, 3, 5, 7, 9}**          \n",
    "\t                   **set2 with values: {2, 3, 5, 8, 10}**\n",
    "  "
   ]
  },
  {
   "cell_type": "code",
   "execution_count": 57,
   "id": "0efaf5c6-f74b-4b7e-9c26-18179c91fa5d",
   "metadata": {},
   "outputs": [
    {
     "name": "stdout",
     "output_type": "stream",
     "text": [
      "{1, 3, 5, 7, 9}\n"
     ]
    },
    {
     "data": {
      "text/plain": [
       "{2, 3, 5, 8, 10}"
      ]
     },
     "execution_count": 57,
     "metadata": {},
     "output_type": "execute_result"
    }
   ],
   "source": [
    "set1={1,3,5,7,9}\n",
    "set2={2,3,5,8,10}\n",
    "print(set1)\n",
    "set2"
   ]
  },
  {
   "cell_type": "markdown",
   "id": "4c891b8c-eeea-43d9-935b-1a88e6a5db14",
   "metadata": {},
   "source": [
    "- D. Compute the union of set1 and set2, and print the result."
   ]
  },
  {
   "cell_type": "code",
   "execution_count": 59,
   "id": "b23dfbd2-47d6-4bd2-8c50-cd22f6aa3d8f",
   "metadata": {},
   "outputs": [
    {
     "name": "stdout",
     "output_type": "stream",
     "text": [
      "{1, 2, 3, 5, 7, 8, 9, 10}\n"
     ]
    },
    {
     "data": {
      "text/plain": [
       "{1, 2, 3, 5, 7, 8, 9, 10}"
      ]
     },
     "execution_count": 59,
     "metadata": {},
     "output_type": "execute_result"
    }
   ],
   "source": [
    "union_set1 = set1|set2\n",
    "print(union_set)\n",
    "unionset2 = set1.union(set2)\n",
    "unionset2"
   ]
  },
  {
   "cell_type": "markdown",
   "id": "b13378a1-8dc7-4ca4-8237-cd5060e632c0",
   "metadata": {},
   "source": [
    "- E. Perform an intersection operation between set1 and set2, and print the result."
   ]
  },
  {
   "cell_type": "code",
   "execution_count": 60,
   "id": "c3230672-358c-4f7e-9565-213bdd721d4b",
   "metadata": {},
   "outputs": [
    {
     "name": "stdout",
     "output_type": "stream",
     "text": [
      "{3, 5}\n"
     ]
    },
    {
     "data": {
      "text/plain": [
       "{3, 5}"
      ]
     },
     "execution_count": 60,
     "metadata": {},
     "output_type": "execute_result"
    }
   ],
   "source": [
    "intersection_1= set1&set2\n",
    "print(intersection_1)\n",
    "intersection_2 = set1.intersection(set2)\n",
    "intersection_2"
   ]
  },
  {
   "cell_type": "markdown",
   "id": "384f0d49-771e-440d-b8d6-c098d1a6d17b",
   "metadata": {},
   "source": [
    "### 2. Frozensets: "
   ]
  },
  {
   "cell_type": "markdown",
   "id": "1742e3c0-8041-4b39-8868-e8482e5d6c6e",
   "metadata": {},
   "source": [
    "- A. Create a frozenset named immutable_set containing the integers: 1, 2, 3, 4, 5. Print the frozenset."
   ]
  },
  {
   "cell_type": "code",
   "execution_count": 12,
   "id": "b8c98553-7632-4d4b-a5d8-b96cbf46e4e6",
   "metadata": {},
   "outputs": [
    {
     "data": {
      "text/plain": [
       "frozenset({1, 2, 3, 4, 5})"
      ]
     },
     "execution_count": 12,
     "metadata": {},
     "output_type": "execute_result"
    }
   ],
   "source": [
    "immutable_set = frozenset({1,2,3,4,5})\n",
    "immutable_set"
   ]
  },
  {
   "cell_type": "markdown",
   "id": "61bc15c0-09ef-41bc-babf-fbb0dca093bf",
   "metadata": {},
   "source": [
    "- B. Try to add an element (e.g., 6) to the immutable_set frozenset. Observe and describe any exceptions that occur."
   ]
  },
  {
   "cell_type": "code",
   "execution_count": 17,
   "id": "e3bc3395-ee41-4ff8-b035-8e2d1546547b",
   "metadata": {},
   "outputs": [],
   "source": [
    "# immutable_set.update(6)\n",
    "# immutable_set.add(6)\n",
    "# The frozen_set actually a set but it's immutable. we can't change the elements.\"frozenset' object has no attribute 'add\""
   ]
  },
  {
   "cell_type": "code",
   "execution_count": 13,
   "id": "70296c9b-bf99-4d4b-a480-1e5c86d2f921",
   "metadata": {},
   "outputs": [
    {
     "data": {
      "text/plain": [
       "frozenset({1, 2, 3, 4, 5, 6})"
      ]
     },
     "execution_count": 13,
     "metadata": {},
     "output_type": "execute_result"
    }
   ],
   "source": [
    "Add_frozenset= immutable_set | frozenset({6})\n",
    "Add_frozenset"
   ]
  },
  {
   "cell_type": "code",
   "execution_count": null,
   "id": "69f702d0-de09-4ecd-93ad-68b8643d28f3",
   "metadata": {},
   "outputs": [],
   "source": []
  }
 ],
 "metadata": {
  "kernelspec": {
   "display_name": "Python 3 (ipykernel)",
   "language": "python",
   "name": "python3"
  },
  "language_info": {
   "codemirror_mode": {
    "name": "ipython",
    "version": 3
   },
   "file_extension": ".py",
   "mimetype": "text/x-python",
   "name": "python",
   "nbconvert_exporter": "python",
   "pygments_lexer": "ipython3",
   "version": "3.12.7"
  }
 },
 "nbformat": 4,
 "nbformat_minor": 5
}
